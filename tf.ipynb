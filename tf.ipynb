{
 "cells": [
  {
   "cell_type": "code",
   "execution_count": 4,
   "metadata": {},
   "outputs": [],
   "source": [
    "import os, sys \n",
    "os.environ[\"CUDA_VISIBLE_DEVICES\"] = '2'\n",
    "import pandas as pd \n",
    "import numpy as np \n",
    "import tensorflow as tf\n",
    "from scipy.misc import imresize\n",
    "from keras.preprocessing.image import load_img\n",
    "from matplotlib import pyplot as plt\n",
    "\n",
    "import warnings\n",
    "warnings.simplefilter('ignore', category=DeprecationWarning)\n",
    "%matplotlib inline\n",
    "import matplotlib.pyplot as plt\n",
    "\n",
    "import ssl\n",
    "ssl._create_default_https_context = ssl._create_unverified_context"
   ]
  },
  {
   "cell_type": "code",
   "execution_count": 31,
   "metadata": {},
   "outputs": [],
   "source": [
    "def preprocess(file_name):\n",
    "    x = load_img(file_name)\n",
    "    x = imresize(x, (128,128), 'nearest')\n",
    "    x = x / 255\n",
    "    x = x.reshape((1,) + x.shape)\n",
    "    return x\n",
    "\n",
    "def load_graph(model_name):\n",
    "    #graph = tf.Graph()\n",
    "    graph = tf.get_default_graph()\n",
    "    graph_def = tf.GraphDef()\n",
    "    with open(model_name, \"rb\") as f:\n",
    "        graph_def.ParseFromString(f.read())\n",
    "    with graph.as_default():\n",
    "        tf.import_graph_def(graph_def)\n",
    "    return graph\n",
    "\n",
    "def predict(imArr, graph=tf.get_default_graph(), in_name='import/input_1', out_name='import/k2tfout_0'):\n",
    "    input_operation = graph.get_operation_by_name(in_name)\n",
    "    output_operation = graph.get_operation_by_name(out_name)\n",
    "    with tf.Session() as sess:\n",
    "        result = sess.run(output_operation.outputs[0],\n",
    "                      {input_operation.outputs[0]: imArr})\n",
    "    return result\n",
    "\n",
    "def predict_logits(imArr, graph=tf.get_default_graph(), in_name='import/input_1', out_name='import/dense_2/BiasAdd'):\n",
    "    input_operation = graph.get_operation_by_name(in_name)\n",
    "    output_operation = graph.get_operation_by_name(out_name)\n",
    "    with tf.Session() as sess:\n",
    "        result = sess.run(output_operation.outputs[0],\n",
    "                      {input_operation.outputs[0]: imArr})\n",
    "    return result\n",
    "\n",
    "def get_gradient_with_y_true(imArr, y_true, graph=tf.get_default_graph(), in_name='import/input_1', out_name='import/dense_2/BiasAdd'):\n",
    "    input_operation = graph.get_operation_by_name(in_name)\n",
    "    output_operation = graph.get_operation_by_name(out_name)\n",
    "    y_true = np.expand_dims(y_true, axis=0)\n",
    "    \n",
    "    y_true_tf = tf.constant(y_true, shape=y_true.shape, dtype='float64')\n",
    "    y_pred_tf = output_operation.outputs[0]\n",
    "    loss = tf.losses.softmax_cross_entropy(y_true_tf, y_pred_tf)\n",
    "    \n",
    "    grad_tf = tf.gradients(loss,[input_operation.outputs[0]])\n",
    "    with tf.Session() as sess:\n",
    "        grad_x = sess.run(grad_tf,\n",
    "                         {input_operation.outputs[0]: imArr})\n",
    "    grad_x = np.asarray(grad_x)\n",
    "    grad_x = grad_x[0]\n",
    "    return grad_x\n",
    "\n",
    "def get_gradient_plain(imArr, graph=tf.get_default_graph(), in_name='import/input_1', out_name='import/dense_2/BiasAdd'):\n",
    "    input_operation = graph.get_operation_by_name(in_name)\n",
    "    output_operation = graph.get_operation_by_name(out_name)\n",
    "    y_pred_tf = output_operation.outputs[0]\n",
    "    one_hot_pred_tf = tf.one_hot(tf.nn.top_k(y_pred_tf).indices, tf.shape(y_pred_tf)[1])[0]\n",
    "    loss = tf.losses.softmax_cross_entropy(one_hot_pred_tf, y_pred_tf)\n",
    "    \n",
    "    grad_tf = tf.gradients(loss,[input_operation.outputs[0]])\n",
    "    grad_sign_tf = tf.sign(grad_tf)\n",
    "    with tf.Session() as sess:\n",
    "        grad_x = sess.run(grad_sign_tf,\n",
    "                         {input_operation.outputs[0]: imArr})\n",
    "    grad_x = np.asarray(grad_x)\n",
    "    grad_x = grad_x[0]\n",
    "    return grad_x\n",
    "\n",
    "def plot_and_predict(imArr):\n",
    "    prediction = predict(imArr)\n",
    "    print(prediction)\n",
    "    prediction2 = predict_logits(imArr)\n",
    "    print(prediction2)\n",
    "    plt.figure()\n",
    "    plt.imshow(imArr[0])\n",
    "    plt.show()\n",
    "    \n",
    "def softmax_T(x, T):\n",
    "    x = np.asarray(x)\n",
    "    e_x = np.exp(x/T)\n",
    "    return e_x / e_x.sum()"
   ]
  },
  {
   "cell_type": "code",
   "execution_count": 37,
   "metadata": {},
   "outputs": [],
   "source": [
    "def ODIN_score(file_name, epsilon=0.0012, T=400):\n",
    "    imArr = preprocess(file_name)\n",
    "    grad_x = get_gradient_plain(imArr)\n",
    "    x_mod = imArr-epsilon*grad_x\n",
    "    logit_pred_x_mod = predict_logits(x_mod)\n",
    "    pred_x_mod = softmax_T(logit_pred_x_mod, T)\n",
    "    print(\"image {}\".format(file_name))\n",
    "    print(\"Original score: {}\".format(predict(imArr)))\n",
    "    print(\"ODIN score: {}\".format(pred_x_mod))\n",
    "    "
   ]
  },
  {
   "cell_type": "code",
   "execution_count": 8,
   "metadata": {},
   "outputs": [],
   "source": [
    "model_name = 'x.pb'\n",
    "graph = load_graph(model_name)"
   ]
  },
  {
   "cell_type": "code",
   "execution_count": 28,
   "metadata": {},
   "outputs": [],
   "source": [
    "fn = ''\n",
    "\n",
    "imArr = preprocess(fn)\n",
    "grad_x = get_gradient_plain(imArr)"
   ]
  },
  {
   "cell_type": "code",
   "execution_count": 29,
   "metadata": {},
   "outputs": [
    {
     "data": {
      "text/plain": [
       "array([1.0000000e+00, 1.9697435e-09], dtype=float32)"
      ]
     },
     "execution_count": 29,
     "metadata": {},
     "output_type": "execute_result"
    }
   ],
   "source": [
    "predict(imArr-0.0012*grad_x)"
   ]
  },
  {
   "cell_type": "code",
   "execution_count": null,
   "metadata": {},
   "outputs": [],
   "source": [
    "fn = 'x.jpg'\n",
    "ODIN_score(fn, epsilon=0.05)\n",
    "plt.figure()\n",
    "plt.imshow(preprocess(fn)[0])\n",
    "plt.show()\n",
    "fn = '/home/y.jpg'\n",
    "ODIN_score(fn, epsilon=0.05)\n",
    "plt.figure()\n",
    "plt.imshow(preprocess(fn)[0])\n",
    "plt.show()"
   ]
  },
  {
   "cell_type": "code",
   "execution_count": null,
   "metadata": {},
   "outputs": [],
   "source": [
    "okDir = 'x/valid/OK'\n",
    "im_paths = [os.path.join(okDir, im) for im in os.listdir(okDir)]\n",
    "im_paths = np.random.permutation(im_paths)\n",
    "\n",
    "for i, p in enumerate(im_paths):\n",
    "    print(i)\n",
    "    ODIN_score(p, epsilon=0.5)\n",
    "    plt.figure()\n",
    "    plt.imshow(preprocess(p)[0])\n",
    "    plt.show()\n",
    "    if i > 100:\n",
    "        break"
   ]
  },
  {
   "cell_type": "code",
   "execution_count": null,
   "metadata": {
    "scrolled": true
   },
   "outputs": [],
   "source": [
    "nokDir = '/y/NOK'\n",
    "im_paths = [os.path.join(nokDir, im) for im in os.listdir(nokDir)]\n",
    "im_paths = np.random.permutation(im_paths)\n",
    "\n",
    "for i, p in enumerate(im_paths):\n",
    "    print(i)\n",
    "    ODIN_score(p, epsilon=0.5)\n",
    "    plt.figure()\n",
    "    plt.imshow(preprocess(p)[0])\n",
    "    plt.show()\n",
    "    if i > 100:\n",
    "        break"
   ]
  },
  {
   "cell_type": "code",
   "execution_count": null,
   "metadata": {},
   "outputs": [],
   "source": [
    "paths = ['x.jpg', 'y.jpg']\n",
    "for i, p in enumerate(paths):\n",
    "    print(i)\n",
    "    ODIN_score(p, epsilon=0.5)\n",
    "    plt.figure()\n",
    "    plt.imshow(preprocess(p)[0])\n",
    "    plt.show()\n",
    "    if i > 100:\n",
    "        break"
   ]
  },
  {
   "cell_type": "code",
   "execution_count": null,
   "metadata": {},
   "outputs": [],
   "source": [
    "fn = '.jpg'\n",
    "ODIN_score(fn, epsilon=0.5)\n",
    "fn = '.jpg'\n",
    "ODIN_score(fn, epsilon=0.5)\n",
    "fn = '/home../.jpg'\n",
    "ODIN_score(fn, epsilon=0.5)"
   ]
  },
  {
   "cell_type": "code",
   "execution_count": 4,
   "metadata": {},
   "outputs": [],
   "source": [
    "model_name = '/home/...pb'\n",
    "graph = load_graph(model_name)"
   ]
  },
  {
   "cell_type": "code",
   "execution_count": 63,
   "metadata": {
    "scrolled": true
   },
   "outputs": [
    {
     "name": "stderr",
     "output_type": "stream",
     "text": [
      "/home/ref1pal/anaconda2/envs/mlEnv/lib/python3.6/site-packages/ipykernel_launcher.py:3: DeprecationWarning: `imresize` is deprecated!\n",
      "`imresize` is deprecated in SciPy 1.0.0, and will be removed in 1.2.0.\n",
      "Use ``skimage.transform.resize`` instead.\n",
      "  This is separate from the ipykernel package so we can avoid doing imports until\n"
     ]
    },
    {
     "name": "stdout",
     "output_type": "stream",
     "text": [
      "[0.09136726 0.9086327 ]\n",
      "28.958494\n"
     ]
    }
   ],
   "source": [
    "file_name = '/home/.jpg'\n",
    "imArr = preprocess(file_name)\n",
    "y_true = [1,0]\n",
    "print(predict(imArr))\n",
    "grad_x = get_gradient(imArr, y_true)\n",
    "print(np.sum(gradient))"
   ]
  },
  {
   "cell_type": "code",
   "execution_count": null,
   "metadata": {
    "scrolled": false
   },
   "outputs": [],
   "source": [
    "print(\"Predict imArr\")\n",
    "plot_and_predict(imArr)\n",
    "print(\"Predict imArr+0.0012*grad_x\")\n",
    "plot_and_predict(imArr+0.0012*grad_x)\n",
    "print(\"Predict imArr-0.0012*grad_x\")\n",
    "plot_and_predict(imArr-0.0012*grad_x)"
   ]
  },
  {
   "cell_type": "code",
   "execution_count": 74,
   "metadata": {},
   "outputs": [
    {
     "data": {
      "text/plain": [
       "array([0.09136727, 0.90863273])"
      ]
     },
     "execution_count": 74,
     "metadata": {},
     "output_type": "execute_result"
    }
   ],
   "source": [
    "softmax([-4.4521017, -2.155048 ])"
   ]
  },
  {
   "cell_type": "code",
   "execution_count": 86,
   "metadata": {},
   "outputs": [
    {
     "name": "stdout",
     "output_type": "stream",
     "text": [
      "[0.09136727 0.90863273]\n",
      "[0.09136727 0.90863273]\n"
     ]
    }
   ],
   "source": [
    "print(softmax([-4.4521017, -2.155048 ]))\n",
    "print(softmax_T(np.array([-4.4521017, -2.155048 ]), 1))"
   ]
  },
  {
   "cell_type": "code",
   "execution_count": 79,
   "metadata": {},
   "outputs": [],
   "source": [
    "def softmax_T(x, T):\n",
    "    x = np.asarray(x)\n",
    "    e_x = np.exp(x/T)\n",
    "    return e_x / e_x.sum()\n",
    "def softmax(x):\n",
    "    \"\"\"Compute softmax values for each sets of scores in x.\"\"\"\n",
    "    e_x = np.exp(x)\n",
    "    return e_x / e_x.sum()"
   ]
  },
  {
   "cell_type": "code",
   "execution_count": 40,
   "metadata": {},
   "outputs": [
    {
     "name": "stdout",
     "output_type": "stream",
     "text": [
      "2.392868\n"
     ]
    }
   ],
   "source": [
    "in_name='import/input_1'\n",
    "out_name='import/dense_2/BiasAdd'\n",
    "y_true = [1,0]\n",
    "input_operation = graph.get_operation_by_name(in_name)\n",
    "output_operation = graph.get_operation_by_name(out_name)\n",
    "y_true = np.expand_dims(y_true, axis=0)\n",
    "y_true_tf = tf.constant(y_true, shape=y_true.shape, dtype='float64')\n",
    "y_pred_tf = output_operation.outputs[0]\n",
    "loss = tf.losses.softmax_cross_entropy(y_true_tf, y_pred_tf)\n",
    "with tf.Session(graph=graph) as sess:\n",
    "    result2 = sess.run(loss, \n",
    "                     {input_operation.outputs[0]: imArr})\n",
    "print(result2)"
   ]
  }
 ],
 "metadata": {
  "kernelspec": {
   "display_name": "Python 3",
   "language": "python",
   "name": "python3"
  },
  "language_info": {
   "codemirror_mode": {
    "name": "ipython",
    "version": 3
   },
   "file_extension": ".py",
   "mimetype": "text/x-python",
   "name": "python",
   "nbconvert_exporter": "python",
   "pygments_lexer": "ipython3",
   "version": "3.6.5"
  }
 },
 "nbformat": 4,
 "nbformat_minor": 2
}
